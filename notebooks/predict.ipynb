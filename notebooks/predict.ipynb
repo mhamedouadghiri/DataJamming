{
 "cells": [
  {
   "cell_type": "code",
   "execution_count": null,
   "metadata": {},
   "outputs": [],
   "source": [
    "import pickle\n",
    "\n",
    "from keras.models import Model, load_model\n",
    "from keras.layers import Input, LSTM, Dense"
   ]
  },
  {
   "cell_type": "code",
   "execution_count": null,
   "metadata": {},
   "outputs": [],
   "source": [
    "# retrieve data\n",
    "\n",
    "with open(\"../input/pfa-files/pickledInfo.pickle\", \"rb\") as pickle_file:\n",
    "    info = pickle.load(pickle_file)\n",
    "\n",
    "input_token_index = info[\"input_token_index\"]\n",
    "target_token_index = info[\"target_token_index\"]\n",
    "num_encoder_tokens = info[\"num_encoder_tokens\"]\n",
    "num_decoder_tokens = info[\"num_decoder_tokens\"]\n",
    "max_encoder_seq_length = info[\"max_encoder_seq_length\"]\n",
    "max_decoder_seq_length = info[\"max_decoder_seq_length\"]\n",
    "latent_dim = info[\"latent_dim\"]"
   ]
  },
  {
   "cell_type": "code",
   "execution_count": null,
   "metadata": {},
   "outputs": [],
   "source": [
    "# reverse lookup: int <-> chr conversion dictionaries\n",
    "\n",
    "reverse_input_char_index = dict((i, char) for char, i in input_token_index.items())\n",
    "reverse_target_char_index = dict((i, char) for char, i in target_token_index.items())"
   ]
  },
  {
   "cell_type": "code",
   "execution_count": null,
   "metadata": {},
   "outputs": [],
   "source": [
    "model = load_model(\"../input/pfa-files/xorModel.h5\")"
   ]
  },
  {
   "cell_type": "code",
   "execution_count": null,
   "metadata": {},
   "outputs": [],
   "source": [
    "model.summary()"
   ]
  },
  {
   "cell_type": "code",
   "execution_count": null,
   "metadata": {},
   "outputs": [],
   "source": [
    "# retrieve data from saved model\n",
    "# and reconstruct the encoder\n",
    "\n",
    "encoder_inputs = model.input[0]\n",
    "encoder_outputs, state_h_enc, state_c_enc = model.layers[2].output\n",
    "encoder_states = [state_h_enc, state_c_enc]\n",
    "encoder_model = Model(encoder_inputs, encoder_states)\n"
   ]
  },
  {
   "cell_type": "code",
   "execution_count": null,
   "metadata": {},
   "outputs": [],
   "source": [
    "# retrieve data from saved model\n",
    "# and reconstruct the decoder\n",
    "\n",
    "decoder_inputs = model.input[1]\n",
    "decoder_state_input_h = Input(shape=(latent_dim,), name='input_3')\n",
    "decoder_state_input_c = Input(shape=(latent_dim,), name='input_4')\n",
    "decoder_states_inputs = [decoder_state_input_h, decoder_state_input_c]\n",
    "decoder_lstm = model.layers[3]\n",
    "decoder_outputs, state_h_dec, state_c_dec = decoder_lstm(decoder_inputs, initial_state=decoder_states_inputs)\n",
    "decoder_states = [state_h_dec, state_c_dec]\n",
    "decoder_dense = model.layers[4]\n",
    "decoder_outputs = decoder_dense(decoder_outputs)\n",
    "decoder_model = Model([decoder_inputs] + decoder_states_inputs, [decoder_outputs] + decoder_states)"
   ]
  },
  {
   "cell_type": "code",
   "execution_count": null,
   "metadata": {},
   "outputs": [],
   "source": [
    "# decode function\n",
    "\n",
    "def decode_sequence(input_seq, input_length):\n",
    "    states_value = encoder_model.predict(input_seq)\n",
    "\n",
    "    target_seq = np.zeros((1, 1, num_decoder_tokens))\n",
    "    target_seq[0, 0, target_token_index['\\t']] = 1.\n",
    "\n",
    "    stop_condition = False\n",
    "    decoded_sentence = ''\n",
    "    while not stop_condition:\n",
    "        output_tokens, h, c = decoder_model.predict([target_seq] + states_value)\n",
    "\n",
    "        sampled_token_index = np.argmax(output_tokens[0, -1, :])\n",
    "        sampled_char = reverse_target_char_index[sampled_token_index]\n",
    "        decoded_sentence += sampled_char\n",
    "\n",
    "        if (sampled_char == '\\n') or (len(decoded_sentence) == input_length):\n",
    "            stop_condition = True\n",
    "\n",
    "        target_seq = np.zeros((1, 1, num_decoder_tokens))\n",
    "        target_seq[0, 0, sampled_token_index] = 1.\n",
    "\n",
    "        states_value = [h, c]\n",
    "\n",
    "    return decoded_sentence"
   ]
  },
  {
   "cell_type": "code",
   "execution_count": null,
   "metadata": {},
   "outputs": [],
   "source": [
    "def cipher(message, key=\"pfa2020\"):\n",
    "    result = \"\"\n",
    "    for i in range(len(message)):\n",
    "        chr1 = message[i]\n",
    "        \n",
    "        if chr1.isspace():\n",
    "            result += chr1\n",
    "            continue\n",
    "        \n",
    "        chr2 = key[i % len(key)]\n",
    "        r = chr(ord(chr1) ^ ord(chr2))\n",
    "    \n",
    "        if r.isspace():\n",
    "            result += chr(256)\n",
    "        else:\n",
    "            result += r\n",
    "        \n",
    "    return result"
   ]
  },
  {
   "cell_type": "code",
   "execution_count": null,
   "metadata": {},
   "outputs": [],
   "source": [
    "def onehot(toDecrypt):\n",
    "    encoder_input_data = np.zeros(\n",
    "        (1, max_encoder_seq_length, num_encoder_tokens),\n",
    "        dtype='float32')\n",
    "\n",
    "    # one-hot encode it\n",
    "    for t, char in enumerate(toDecrypt):\n",
    "        encoder_input_data[0, t, input_token_index[char]] = 1.\n",
    "    encoder_input_data[0, t + 1:, input_token_index[' ']] = 1.\n",
    "    \n",
    "    return encoder_input_data"
   ]
  },
  {
   "cell_type": "code",
   "execution_count": null,
   "metadata": {},
   "outputs": [],
   "source": [
    "message = \"Yesterday, she ate an apple pie.\"\n",
    "encrypted_message = cipher(message)\n",
    "\n",
    "print(\"The encrypted message that we want to decrypt is: \", encrypted_message)"
   ]
  },
  {
   "cell_type": "code",
   "execution_count": null,
   "metadata": {},
   "outputs": [],
   "source": [
    "input_seq = onehot(encrypted_message)\n",
    "decoded_sentence = decode_sequence(input_seq, len(encrypted_message))\n",
    "\n",
    "print(\"Message to decrypt:\", encrypted_message)\n",
    "print(\"Decrypted message:\", decoded_sentence)"
   ]
  }
 ],
 "metadata": {
  "kernelspec": {
   "display_name": "Python 3",
   "language": "python",
   "name": "python3"
  },
  "language_info": {
   "codemirror_mode": {
    "name": "ipython",
    "version": 3
   },
   "file_extension": ".py",
   "mimetype": "text/x-python",
   "name": "python",
   "nbconvert_exporter": "python",
   "pygments_lexer": "ipython3",
   "version": "3.7.7"
  }
 },
 "nbformat": 4,
 "nbformat_minor": 4
}
