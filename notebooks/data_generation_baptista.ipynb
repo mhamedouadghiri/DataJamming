{
 "cells": [
  {
   "cell_type": "code",
   "execution_count": 1,
   "metadata": {},
   "outputs": [],
   "source": [
    "# generate a file of 30000 lines of english sentences and their baptista equivalent"
   ]
  },
  {
   "cell_type": "code",
   "execution_count": 2,
   "metadata": {},
   "outputs": [],
   "source": [
    "# fra.txt file is available at http://www.manythings.org/anki/fra-eng.zip\n",
    "with open(\"../files/fra.txt\", \"r\", encoding=\"utf-8\") as file:\n",
    "    text = file.readlines()\n",
    "\n",
    "# 30000 lines are enough\n",
    "text = text[:30000]\n",
    "# to store the encrypted version\n",
    "text_encrypted = []"
   ]
  },
  {
   "cell_type": "code",
   "execution_count": 3,
   "metadata": {},
   "outputs": [],
   "source": [
    "# baptista constants\n",
    "mu = 3.8\n",
    "x0 = .5\n",
    "S = 256\n",
    "interval_min = .2\n",
    "interval_max = .8\n",
    "r = (interval_max - interval_min) / S"
   ]
  },
  {
   "cell_type": "code",
   "execution_count": 4,
   "metadata": {},
   "outputs": [],
   "source": [
    "# baptista method\n",
    "x = x0\n",
    "for line in text:\n",
    "    result = \"\"\n",
    "    for i in range(len(line.split('\\t')[0])):\n",
    "        char = line[i]\n",
    "        if char.isspace():\n",
    "            result += char\n",
    "            continue\n",
    "        \n",
    "        x_min = interval_min + r * ord(char)\n",
    "        x_max = interval_min + r * (ord(char) + 1)\n",
    "        N = 0\n",
    "        while x < x_min or x > x_max:\n",
    "            x = mu * x * (1 - x)\n",
    "            N += 1\n",
    "        \n",
    "        if chr(N).isspace():\n",
    "            result += chr(256)\n",
    "        else:\n",
    "            result += chr(N)\n",
    "    \n",
    "    text_encrypted.append(result)"
   ]
  },
  {
   "cell_type": "code",
   "execution_count": 5,
   "metadata": {},
   "outputs": [],
   "source": [
    "# modification of the text to replace the french sentences with the encrypted ones\n",
    "for i in range(len(text)):\n",
    "    text[i] = text[i].split('\\t')\n",
    "    text[i][1] = text[i][0]\n",
    "    text[i][0] = text_encrypted[i]\n",
    "    text[i] = '\\t'.join(text[i])"
   ]
  },
  {
   "cell_type": "code",
   "execution_count": 6,
   "metadata": {},
   "outputs": [],
   "source": [
    "# write to new file the modified text array\n",
    "with open(\"../files/baptista30000.txt\", \"w\", encoding=\"utf-8\") as file:\n",
    "    file.writelines(text)"
   ]
  }
 ],
 "metadata": {
  "kernelspec": {
   "display_name": "Python 3",
   "language": "python",
   "name": "python3"
  },
  "language_info": {
   "codemirror_mode": {
    "name": "ipython",
    "version": 3
   },
   "file_extension": ".py",
   "mimetype": "text/x-python",
   "name": "python",
   "nbconvert_exporter": "python",
   "pygments_lexer": "ipython3",
   "version": "3.7.7"
  }
 },
 "nbformat": 4,
 "nbformat_minor": 4
}
