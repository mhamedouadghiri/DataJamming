{
 "cells": [
  {
   "cell_type": "code",
   "execution_count": 1,
   "metadata": {},
   "outputs": [],
   "source": [
    "# generate a file of 30000 lines of english sentences and their xor cypher equivalent"
   ]
  },
  {
   "cell_type": "code",
   "execution_count": 2,
   "metadata": {},
   "outputs": [],
   "source": [
    "# fra.txt file is available at http://www.manythings.org/anki/fra-eng.zip\n",
    "with open(\"../files/fra.txt\", \"r\", encoding=\"utf-8\") as file:\n",
    "    text = file.readlines()\n",
    "\n",
    "# 30000 lines are enough\n",
    "text = text[:30000]\n",
    "# to store the encrypted version\n",
    "text_encrypted = []"
   ]
  },
  {
   "cell_type": "code",
   "execution_count": 3,
   "metadata": {},
   "outputs": [],
   "source": [
    "def cipher(message, key=\"pfa2020\"):\n",
    "    result = \"\"\n",
    "    for i in range(len(message)):\n",
    "        chr1 = message[i]\n",
    "        \n",
    "        if chr1.isspace():\n",
    "            result += chr1\n",
    "            continue\n",
    "        \n",
    "        chr2 = key[i % len(key)]\n",
    "        r = chr(ord(chr1) ^ ord(chr2))\n",
    "    \n",
    "        if r.isspace():\n",
    "            result += chr(256)\n",
    "        else:\n",
    "            result += r\n",
    "        \n",
    "    return result"
   ]
  },
  {
   "cell_type": "code",
   "execution_count": 4,
   "metadata": {},
   "outputs": [],
   "source": [
    "# xor cipher encryption\n",
    "for line in text:\n",
    "    text_encrypted.append(cipher(line.split('\\t')[0]))"
   ]
  },
  {
   "cell_type": "code",
   "execution_count": 5,
   "metadata": {},
   "outputs": [],
   "source": [
    "# modification of the text to replace the french sentences with the encrypted ones\n",
    "for i in range(len(text)):\n",
    "    text[i] = text[i].split('\\t')\n",
    "    text[i][1] = text[i][0]\n",
    "    text[i][0] = text_encrypted[i]\n",
    "    text[i] = '\\t'.join(text[i])"
   ]
  },
  {
   "cell_type": "code",
   "execution_count": 6,
   "metadata": {},
   "outputs": [],
   "source": [
    "# write to new file the modified text array\n",
    "with open(\"../files/xor30000.txt\", \"w\", encoding=\"utf-8\") as file:\n",
    "    file.writelines(text)"
   ]
  }
 ],
 "metadata": {
  "kernelspec": {
   "display_name": "Python 3",
   "language": "python",
   "name": "python3"
  },
  "language_info": {
   "codemirror_mode": {
    "name": "ipython",
    "version": 3
   },
   "file_extension": ".py",
   "mimetype": "text/x-python",
   "name": "python",
   "nbconvert_exporter": "python",
   "pygments_lexer": "ipython3",
   "version": "3.7.7"
  }
 },
 "nbformat": 4,
 "nbformat_minor": 4
}
