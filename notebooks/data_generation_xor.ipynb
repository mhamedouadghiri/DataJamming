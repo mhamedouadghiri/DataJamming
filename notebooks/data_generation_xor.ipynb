{
 "cells": [
  {
   "cell_type": "code",
   "execution_count": 1,
   "metadata": {},
   "outputs": [],
   "source": [
    "# generate a file of english sentences and their xor cypher equivalent"
   ]
  },
  {
   "cell_type": "code",
   "execution_count": 2,
   "metadata": {},
   "outputs": [],
   "source": [
    "from collections import OrderedDict "
   ]
  },
  {
   "cell_type": "code",
   "execution_count": 3,
   "metadata": {},
   "outputs": [],
   "source": [
    "# fra.txt file is available at http://www.manythings.org/anki/fra-eng.zip\n",
    "with open(\"../files/fra.txt\", \"r\", encoding=\"utf-8\") as file:\n",
    "    text = file.readlines()"
   ]
  },
  {
   "cell_type": "code",
   "execution_count": 4,
   "metadata": {},
   "outputs": [],
   "source": [
    "# clean the text list\n",
    "# remove the last line because it is blank\n",
    "text = text[:-1]\n",
    "# leave only the english sentences (first column)\n",
    "text = [line.split('\\t')[0] for line in text]\n",
    "# remove duplicates\n",
    "text = list(OrderedDict.fromkeys(text))"
   ]
  },
  {
   "cell_type": "code",
   "execution_count": 5,
   "metadata": {},
   "outputs": [],
   "source": [
    "# the cipher function\n",
    "def cipher(message, key=\"pfa2020\"):\n",
    "    result = \"\"\n",
    "    for i in range(len(message)):\n",
    "        chr1 = message[i]\n",
    "        \n",
    "        if chr1.isspace():\n",
    "            result += chr1\n",
    "            continue\n",
    "        \n",
    "        chr2 = key[i % len(key)]\n",
    "        r = chr(ord(chr1) ^ ord(chr2))\n",
    "    \n",
    "        if r.isspace():\n",
    "            result += chr(256)\n",
    "        else:\n",
    "            result += r\n",
    "        \n",
    "    return result"
   ]
  },
  {
   "cell_type": "code",
   "execution_count": 6,
   "metadata": {},
   "outputs": [],
   "source": [
    "# to store the encrypted version\n",
    "text_encrypted = []\n",
    "# encrypt and store\n",
    "for line in text:\n",
    "    text_encrypted.append(cipher(line))"
   ]
  },
  {
   "cell_type": "code",
   "execution_count": 7,
   "metadata": {},
   "outputs": [],
   "source": [
    "# sanity check\n",
    "assert(len(text) == len(text_encrypted))\n",
    "\n",
    "# create the list to be written to the final file\n",
    "text_final = []\n",
    "for enc, plain in zip(text_encrypted, text):\n",
    "    text_final.append(enc + '\\t' + plain + '\\n')"
   ]
  },
  {
   "cell_type": "code",
   "execution_count": 8,
   "metadata": {},
   "outputs": [],
   "source": [
    "# write to new file the modified text array\n",
    "with open(\"../files/xor123100.txt\", \"w\", encoding=\"utf-8\") as file:\n",
    "    file.writelines(text_final)"
   ]
  }
 ],
 "metadata": {
  "kernelspec": {
   "display_name": "Python 3",
   "language": "python",
   "name": "python3"
  },
  "language_info": {
   "codemirror_mode": {
    "name": "ipython",
    "version": 3
   },
   "file_extension": ".py",
   "mimetype": "text/x-python",
   "name": "python",
   "nbconvert_exporter": "python",
   "pygments_lexer": "ipython3",
   "version": "3.7.7"
  }
 },
 "nbformat": 4,
 "nbformat_minor": 4
}
